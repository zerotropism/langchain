{
 "cells": [
  {
   "cell_type": "markdown",
   "id": "b59aea8e",
   "metadata": {},
   "source": [
    "## QnA over Documents (doc RAG)\n",
    "Extract information from specialized data LLM models have not been trained on.<br><br>\n",
    "\n",
    "* Emebeddings<br>\n",
    "![<embeddings.png>](../img/embeddings.png)<br><br>\n",
    "\n",
    "* Vector Database<br>\n",
    "![vectordb.png](../img/vectordb.png)"
   ]
  },
  {
   "cell_type": "code",
   "execution_count": null,
   "id": "0e29886d",
   "metadata": {},
   "outputs": [],
   "source": [
    "# required imports\n",
    "from langchain.document_loaders import CSVLoader\n",
    "from langchain.indexes import VectorstoreIndexCreator\n",
    "from langchain.chains import RetrievalQA\n",
    "from langchain.vectorstores import DocArrayInMemorySearch\n",
    "from IPython.display import display, Markdown\n",
    "# with specifics to our local model\n",
    "from langchain_ollama import ChatOllama\n",
    "from langchain_ollama.llms import OllamaLLM\n",
    "from langchain_ollama import OllamaEmbeddings"
   ]
  },
  {
   "cell_type": "code",
   "execution_count": null,
   "id": "0751cbc2",
   "metadata": {},
   "outputs": [],
   "source": [
    "# get data\n",
    "filepath = \"./data/clothing.csv\"\n",
    "loader = CSVLoader(filepath)\n",
    "docs = loader.load()"
   ]
  },
  {
   "cell_type": "code",
   "execution_count": null,
   "id": "73bfde25",
   "metadata": {},
   "outputs": [],
   "source": [
    "# setup the embedding model\n",
    "embeddings = OllamaEmbeddings(model=\"nomic-embed-text\")"
   ]
  },
  {
   "cell_type": "code",
   "execution_count": null,
   "id": "20f2fc64",
   "metadata": {},
   "outputs": [],
   "source": [
    "# we want to create embeddings for all the docs and store them in the vector store\n",
    "db = DocArrayInMemorySearch.from_documents(\n",
    "    docs, \n",
    "    embeddings\n",
    ")"
   ]
  },
  {
   "cell_type": "code",
   "execution_count": null,
   "id": "95ae98c0",
   "metadata": {},
   "outputs": [
    {
     "name": "stdout",
     "output_type": "stream",
     "text": [
      "[Document(metadata={'source': './data/OutdoorClothingCatalog_1000.csv', 'row': 255}, page_content=': 255\\nname: Sun Shield Shirt by\\ndescription: \"Block the sun, not the fun – our high-performance sun shirt is guaranteed to protect from harmful UV rays. \\n\\nSize & Fit: Slightly Fitted: Softly shapes the body. Falls at hip.\\n\\nFabric & Care: 78% nylon, 22% Lycra Xtra Life fiber. UPF 50+ rated – the highest rated sun protection possible. Handwash, line dry.\\n\\nAdditional Features: Wicks moisture for quick-drying comfort. Fits comfortably over your favorite swimsuit. Abrasion resistant for season after season of wear. Imported.\\n\\nSun Protection That Won\\'t Wear Off\\nOur high-performance fabric provides SPF 50+ sun protection, blocking 98% of the sun\\'s harmful rays. This fabric is recommended by The Skin Cancer Foundation as an effective UV protectant.'), Document(metadata={'source': './data/OutdoorClothingCatalog_1000.csv', 'row': 619}, page_content=\": 619\\nname: Tropical Breeze Shirt\\ndescription: Beat the heat in this lightweight, breathable long-sleeve men’s UPF shirt, offering superior SunSmart™ protection from the sun’s harmful rays. The wrinkle-resistant and moisture-wicking fabric keeps you cool and comfortable.\\n\\nSize & Fit\\n\\nTraditional Fit: Relaxed through the chest, sleeve and waist.\\n\\nWhy We Love It\\n\\nWhen you spend a lot of time outdoors, limiting sun exposure is important. Originally designed for fishing, our lightest hot-weather shirt offers UPF 50+ coverage and is also a great choice for extended travel. Innovative SunSmart technology blocks 98% of the sun's harmful UV rays. The high-performance fabric is wrinkle free, dries quickly and keeps you cool by wicking perspiration away from your skin.\\n\\nFabric & Care\\n\\nShell: 71% nylon, 29% polyester.\\nCape lining: 100% polyester.\\nPolyester-mesh inserts.\\nUPF 50+ rated – the highest rated sun protection possible.\\nMachine wash and dry.\\n\\nAdditional Features\\n\\nWrinkle-resistant fabric. \\nFront and back cape venting lets in cool breezes.\\nTwo front bell\"), Document(metadata={'source': './data/OutdoorClothingCatalog_1000.csv', 'row': 374}, page_content=\": 374\\nname: Men's Plaid Tropic Shirt, Short-Sleeve\\ndescription: Our Ultracomfortable sun protection is rated to UPF 50+, helping you stay cool and dry. Originally designed for fishing, this lightest hot-weather shirt offers UPF 50+ coverage and is great for extended travel. SunSmart technology blocks 98% of the sun's harmful UV rays, while the high-performance fabric is wrinkle-free and quickly evaporates perspiration. Made with 52% polyester and 48% nylon, this shirt is machine washable and dryable. Additional features include front and back cape venting, two front bellows pockets and an imported design. With UPF 50+ coverage, you can limit sun exposure and feel secure with the highest rated sun protection available.\"), Document(metadata={'source': './data/OutdoorClothingCatalog_1000.csv', 'row': 709}, page_content=\": 709\\nname: Sunrise Tee\\ndescription: Stay cool, comfortable and dry on the hottest days in our women's UV-protective button down shirt. The lightweight, high-performance fabric wicks away moisture and dries quickly.\\n\\nSize & Fit\\nSlightly Fitted: Softly shapes the body. Falls at hip.\\n\\nWhy We Love It\\nOur lightest hot-weather shirt lets you beat the heat. Originally designed for fishing, it's also a great choice for travel thanks to its wrinkle-free fabric and built-in sun protection with a rating of UPF 50+.\\n\\nFabric & Care\\nLightweight performance synthetic wicks moisture, resists wrinkles and dries fast. Shell: 71% nylon, 29% polyester. Cape lining: 100% polyester. Machine wash and dry.\\n\\nAdditional Features\\nBuilt-in SunSmart™ UPF 50+ rated – the highest rated sun protection possible. The high-performance fabric keeps you cool and comfortable by wicking perspiration away. Smoother buttons, low-profile pockets and side shaping for a flattering fit. Front and back cape venting. Two front pockets, tool tabs and eyewear loop. Wrinkle free. Imported.\\n\\nSun Protection That Won't Wear Off\\nOur\")]\n",
      "4\n"
     ]
    }
   ],
   "source": [
    "# then query the vdb content\n",
    "query = \"Please suggest a shirt with sunblocking\"\n",
    "results = db.similarity_search(query)\n",
    "print(list(results))\n",
    "print(len(results))"
   ]
  },
  {
   "cell_type": "code",
   "execution_count": null,
   "id": "e0029fab",
   "metadata": {},
   "outputs": [],
   "source": [
    "# to setup a QnA capability we first need to create a retriever\n",
    "ir = db.as_retriever()\n",
    "# then we need an llm to produce natural language answers\n",
    "model = \"gemma3:12b\"\n",
    "llm = ChatOllama(model=model, temperature=0)"
   ]
  },
  {
   "cell_type": "markdown",
   "id": "0759156e",
   "metadata": {},
   "source": [
    "#### Manually exploiting docs"
   ]
  },
  {
   "cell_type": "code",
   "execution_count": null,
   "id": "8405ffcd",
   "metadata": {},
   "outputs": [],
   "source": [
    "# by concatenating all the results into a single string\n",
    "qresults = \"\".join([results[i].page_content for i in range(len(results))])\n",
    "# and then passing the concatenated string to the llm before asking the question\n",
    "response = llm.invoke(f\"{qresults} Question: Please list all your shirts with sun protection in a table in markdown and summarize each one.\")"
   ]
  },
  {
   "cell_type": "code",
   "execution_count": null,
   "id": "202a3c2a",
   "metadata": {},
   "outputs": [
    {
     "data": {
      "text/markdown": [
       "Okay, here's a table summarizing the shirts with sun protection, based on the provided descriptions.\n",
       "\n",
       "| Shirt Name | Description Summary | Fabric Composition | UPF Rating | Key Features |\n",
       "|---|---|---|---|---|\n",
       "| **Sun Shield Shirt** | High-performance sun shirt designed to block harmful UV rays.  Slightly fitted style. | 78% Nylon, 22% Lycra Xtra Life | 50+ | Wicks moisture, fits over swimsuit, abrasion resistant, handwash/line dry. |\n",
       "| **Tropical Breeze Shirt** | Lightweight, breathable long-sleeve shirt for sun protection. Originally designed for fishing. Traditional fit. | 71% Nylon, 29% Polyester (Shell), 100% Polyester (Cape Lining) | 50+ | Wrinkle-resistant, moisture-wicking, front & back cape venting, two front pockets, machine wash/dry. |\n",
       "| **Men's Plaid Tropic Shirt, Short-Sleeve** | Ultracomfortable sun protection shirt, originally designed for fishing.  | 52% Polyester, 48% Nylon | 50+ | Wrinkle-resistant, moisture-wicking, front & back cape venting, two front pockets, machine wash/dry, imported design. |\n",
       "| **Sunrise Tee** | Women's UV-protective button-down shirt. Lightweight and designed to beat the heat. | 71% Nylon, 29% Polyester (Shell), 100% Polyester (Cape Lining) | 50+ | Wrinkle-resistant, moisture-wicking, front & back cape venting, smoother buttons, low-profile pockets, side shaping, machine wash/dry, imported. |\n",
       "\n",
       "**Common Themes & Notes:**\n",
       "\n",
       "*   **UPF 50+:** All shirts boast the highest possible UPF rating, blocking 98% of harmful UV rays.\n",
       "*   **Origin:** Many are originally designed for fishing, highlighting their practicality for extended outdoor use.\n",
       "*   **Moisture-Wicking & Quick-Drying:** A consistent feature across all shirts, ensuring comfort in hot weather.\n",
       "*   **Wrinkle Resistance:**  A desirable quality for travel and ease of care.\n",
       "*   **Ventilation:** Front and back cape venting is a common feature for increased breathability.\n",
       "*   **Fit:**  Varying fits are offered, from slightly fitted to traditional/relaxed."
      ],
      "text/plain": [
       "<IPython.core.display.Markdown object>"
      ]
     },
     "metadata": {},
     "output_type": "display_data"
    }
   ],
   "source": [
    "display(Markdown(response.content))"
   ]
  },
  {
   "cell_type": "markdown",
   "id": "fbd06821",
   "metadata": {},
   "source": [
    "#### Exploiting docs with langchain\n",
    "Encapsulating all these steps at once with the `RetrievalQA` class, using the simplest chain method called \"Stuff\" method for this example:<br>\n",
    "\n",
    "![stuff.png](../img/stuffmethod.png)"
   ]
  },
  {
   "cell_type": "code",
   "execution_count": null,
   "id": "f1a76786",
   "metadata": {},
   "outputs": [],
   "source": [
    "qa_stuff = RetrievalQA.from_chain_type(\n",
    "    llm=llm, \n",
    "    chain_type=\"stuff\",\n",
    "    retriever=ir, \n",
    "    verbose=True\n",
    ")"
   ]
  },
  {
   "cell_type": "code",
   "execution_count": null,
   "id": "208cbc16",
   "metadata": {},
   "outputs": [],
   "source": [
    "query =  \"Please list all your shirts with sun protection in a table \\\n",
    "in markdown and summarize each one.\""
   ]
  },
  {
   "cell_type": "code",
   "execution_count": null,
   "id": "4147d1b8",
   "metadata": {},
   "outputs": [
    {
     "name": "stdout",
     "output_type": "stream",
     "text": [
      "\n",
      "\n",
      "\u001b[1m> Entering new RetrievalQA chain...\u001b[0m\n",
      "\n",
      "\u001b[1m> Finished chain.\u001b[0m\n"
     ]
    }
   ],
   "source": [
    "response = qa_stuff.run(query)"
   ]
  },
  {
   "cell_type": "code",
   "execution_count": null,
   "id": "a35b62b2",
   "metadata": {},
   "outputs": [
    {
     "data": {
      "text/markdown": [
       "Okay, here's a table summarizing the shirts with sun protection, based on the provided context:\n",
       "\n",
       "| Shirt Name | Summary |\n",
       "|---|---|\n",
       "| Sun Shield Shirt by | High-performance sun shirt with UPF 50+ protection (blocking 98% of UV rays). Slightly fitted, made of 78% nylon and 22% Lycra Xtra Life fiber. Wicks moisture, abrasion resistant, and designed to fit over swimsuits. Handwash/line dry. |\n",
       "| Men's Plaid Tropic Shirt, Short-Sleeve | UPF 50+ protection (blocks 98% of UV rays) with SunSmart technology. Designed for fishing and travel. Wrinkle-free, quick-drying, and machine washable. Made of 52% polyester and 48% nylon. Includes front/back cape venting and pockets. |\n",
       "| Men's Tropical Plaid Short-Sleeve Shirt | UPF 50+ protection (blocks 98% of UV rays). Traditional, relaxed fit. Made of 100% polyester, wrinkle-resistant. Features front/back cape venting and pockets. |\n",
       "| Sunrise Tee | Women's UV-protective button-down shirt with UPF 50+ protection. Lightweight, wrinkle-free, and quick-drying. Made of 71% nylon and 29% polyester with a 100% polyester cape lining. Includes cape venting, pockets, and an eyewear loop. |\n",
       "\n",
       "\n",
       "\n",
       "Hopefully, this table provides a clear overview of the shirts and their sun protection features."
      ],
      "text/plain": [
       "<IPython.core.display.Markdown object>"
      ]
     },
     "metadata": {},
     "output_type": "display_data"
    }
   ],
   "source": [
    "display(Markdown(response))"
   ]
  },
  {
   "cell_type": "code",
   "execution_count": null,
   "id": "16671e9b",
   "metadata": {},
   "outputs": [],
   "source": [
    "# we can also customize the indexing process i.e. with our own embedding model\n",
    "index = VectorstoreIndexCreator(\n",
    "    vectorstore_cls=DocArrayInMemorySearch,\n",
    "    embedding=embeddings,\n",
    ").from_loaders([loader])\n",
    "response = index.query(query, llm=llm)"
   ]
  },
  {
   "cell_type": "code",
   "execution_count": null,
   "id": "46a3bdfa",
   "metadata": {},
   "outputs": [
    {
     "data": {
      "text/markdown": [
       "Okay, here's a table summarizing the shirts with sun protection, based on the provided context:\n",
       "\n",
       "| Name | Summary |\n",
       "|---|---|\n",
       "| Sun Shield Shirt by | A high-performance sun shirt guaranteed to protect from harmful UV rays. It's slightly fitted, falls at the hip, and is made of 78% nylon and 22% Lycra Xtra Life fiber. It's UPF 50+ rated, wicks moisture, and is abrasion resistant. |\n",
       "| Men's Plaid Tropic Shirt, Short-Sleeve | Ultracomfortable shirt with UPF 50+ coverage, originally designed for fishing. It's wrinkle-free, quickly evaporates perspiration, and is made of 52% polyester and 48% nylon. It features cape venting, pockets, and is machine washable/dryable. |\n",
       "| Men's Tropical Plaid Short-Sleeve Shirt | A lightweight shirt with a traditional, relaxed fit and UPF 50+ protection. Made of 100% polyester, it's wrinkle-resistant and features cape venting and pockets. |\n",
       "| Women's Tropical Tee, Sleeveless | A sleeveless button-up shirt with a flattering fit and SunSmart™ UPF 50+ protection. It's made of 71% nylon and 29% polyester, with a 100% polyester cape lining. It's wrinkle-resistant and features cape venting, pockets, and a eyewear loop. |\n",
       "\n",
       "All of these shirts are rated UPF 50+ and block 98% of the sun's harmful rays."
      ],
      "text/plain": [
       "<IPython.core.display.Markdown object>"
      ]
     },
     "metadata": {},
     "output_type": "display_data"
    }
   ],
   "source": [
    "display(Markdown(response))"
   ]
  },
  {
   "cell_type": "markdown",
   "id": "bdd578f2",
   "metadata": {},
   "source": [
    "#### Additional chain methods are:\n",
    "* Map_reduce\n",
    "    - Can operate over any number of docs\n",
    "    - Can do individual questions in parallel\n",
    "    - But takes a lot more calls\n",
    "    - And treats every doc as independant from others<br>\n",
    "![map_reduce.png](../img/map_reducemethod.png)<br>\n",
    "\n",
    "* Refine\n",
    "    - Loops over many docs iteratively\n",
    "    - Very good for combining information as it builds up an answer over multiple doc inputs\n",
    "    - Takes as many calls as Map_reduce\n",
    "    - Outputs longer answers\n",
    "    - Slower as every call to a doc depends on the previous one<br>\n",
    "![refine.png](../img/refinemethod.png)<br>\n",
    "\n",
    "* Map_rerank\n",
    "    - More experimental\n",
    "    - Does a single call to the LLM model for every doc\n",
    "    - Asks it to return a score and select the highest score\n",
    "    - Relies on the LLM to know what the score should be\n",
    "    - Similar to Map_reduce, docs are independant\n",
    "    - Takes a lot of calls to the LLM<br>\n",
    "![map_rerank.png](../img/map_rerankmethod.png)<br>"
   ]
  }
 ],
 "metadata": {
  "language_info": {
   "name": "python"
  }
 },
 "nbformat": 4,
 "nbformat_minor": 5
}
